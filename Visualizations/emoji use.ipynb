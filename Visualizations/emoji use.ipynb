{
 "cells": [
  {
   "cell_type": "code",
   "execution_count": 4,
   "metadata": {},
   "outputs": [],
   "source": [
    "from nltk.tokenize import RegexpTokenizer\n",
    "import json"
   ]
  },
  {
   "cell_type": "code",
   "execution_count": 2,
   "metadata": {},
   "outputs": [],
   "source": [
    "tokenizer = RegexpTokenizer(r'\\w+')"
   ]
  },
  {
   "cell_type": "markdown",
   "metadata": {},
   "source": [
    "# Number of positive emojis"
   ]
  },
  {
   "cell_type": "code",
   "execution_count": 7,
   "metadata": {},
   "outputs": [
    {
     "name": "stdout",
     "output_type": "stream",
     "text": [
      "number of emojis 660\n",
      "number of positive tweets 1629\n"
     ]
    }
   ],
   "source": [
    "count_emoji = 0\n",
    "count_tweets = 0\n",
    "\n",
    "handle = open('../data/classify_rel_labeled_nonbinary.json', encoding='utf8')\n",
    "\n",
    "for line in handle:\n",
    "    item = json.loads(line)\n",
    "    if item['isRelevant'] == 1 and item['sentiment'] == 2:  # get relevant tweets\n",
    "        count_tweets += 1\n",
    "        tokens = tokenizer.tokenize(item['text'].lower())\n",
    "        for token in tokens:\n",
    "            if 'emoji' in token:\n",
    "                count_emoji += 1\n",
    "handle.close()\n",
    "print('number of emojis', count_emoji)\n",
    "print('number of positive tweets', count_tweets)"
   ]
  },
  {
   "cell_type": "markdown",
   "metadata": {},
   "source": [
    "# Number of negative emojis"
   ]
  },
  {
   "cell_type": "code",
   "execution_count": 8,
   "metadata": {},
   "outputs": [
    {
     "name": "stdout",
     "output_type": "stream",
     "text": [
      "number of emojis 54\n",
      "number of negative tweets 558\n"
     ]
    }
   ],
   "source": [
    "count_emoji = 0\n",
    "count_tweets = 0\n",
    "\n",
    "handle = open('../data/classify_rel_labeled_nonbinary.json', encoding='utf8')\n",
    "\n",
    "for line in handle:\n",
    "    item = json.loads(line)\n",
    "    if item['isRelevant'] == 1 and item['sentiment'] == 0:  # get relevant tweets\n",
    "        count_tweets += 1\n",
    "        tokens = tokenizer.tokenize(item['text'].lower())\n",
    "        for token in tokens:\n",
    "            if 'emoji' in token:\n",
    "                count_emoji += 1\n",
    "handle.close()\n",
    "print('number of emojis', count_emoji)\n",
    "print('number of negative tweets', count_tweets)"
   ]
  },
  {
   "cell_type": "code",
   "execution_count": null,
   "metadata": {},
   "outputs": [],
   "source": []
  }
 ],
 "metadata": {
  "kernelspec": {
   "display_name": "Python 3",
   "language": "python",
   "name": "python3"
  },
  "language_info": {
   "codemirror_mode": {
    "name": "ipython",
    "version": 3
   },
   "file_extension": ".py",
   "mimetype": "text/x-python",
   "name": "python",
   "nbconvert_exporter": "python",
   "pygments_lexer": "ipython3",
   "version": "3.7.2"
  }
 },
 "nbformat": 4,
 "nbformat_minor": 2
}
