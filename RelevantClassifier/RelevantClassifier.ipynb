{
 "cells": [
  {
   "cell_type": "code",
   "execution_count": 37,
   "metadata": {},
   "outputs": [],
   "source": [
    "import json\n",
    "import pandas as pd\n",
    "import numpy as np\n",
    "from sklearn.model_selection import train_test_split\n",
    "from nltk.stem.snowball import SnowballStemmer\n",
    "from sklearn.pipeline import Pipeline\n",
    "from sklearn.feature_extraction.text import CountVectorizer\n",
    "from sklearn.feature_extraction.text import TfidfTransformer\n",
    "from sklearn.naive_bayes import MultinomialNB\n",
    "from sklearn.model_selection import cross_val_score\n",
    "from sklearn.metrics import accuracy_score\n",
    "from sklearn.metrics import recall_score\n",
    "from sklearn.metrics import precision_score\n",
    "from sklearn.metrics import f1_score\n",
    "from sklearn import preprocessing\n",
    "from collections import defaultdict\n",
    "\n",
    "import matplotlib.pyplot as plt\n",
    "import matplotlib.cm as mplcm\n",
    "import matplotlib.colors as colors"
   ]
  },
  {
   "cell_type": "code",
   "execution_count": 18,
   "metadata": {},
   "outputs": [
    {
     "name": "stdout",
     "output_type": "stream",
     "text": [
      "                                                text     relevant\n",
      "0  destin charger charg normal car 7kw super netw...     relevant\n",
      "0  thank make frick spaceflight feel normal const...  notRelevant\n",
      "0             super charger work hard holiday season     relevant\n",
      "0       egyptian bitch blush vintag tux dilling tuck  notRelevant\n",
      "0                       angel heaven silk bed fill _  notRelevant\n"
     ]
    }
   ],
   "source": [
    "# create a dataframe to store the information\n",
    "df = pd.DataFrame(columns=['text', 'relevant'])\n",
    "\n",
    "handle = open('classify.json')\n",
    "\n",
    "for line in handle:\n",
    "    item = json.loads(line)\n",
    "    if item['isRelevant'] == 0:\n",
    "        temp = pd.DataFrame([[item['text'], 'notRelevant']], columns=['text', 'relevant'])\n",
    "    else:\n",
    "        temp = pd.DataFrame([[item['text'], 'relevant']], columns=['text', 'relevant'])\n",
    "    df = df.append(temp)\n",
    "    \n",
    "handle.close()\n",
    "\n",
    "print(df.head())"
   ]
  },
  {
   "cell_type": "code",
   "execution_count": 33,
   "metadata": {},
   "outputs": [
    {
     "name": "stdout",
     "output_type": "stream",
     "text": [
      "                                                text  relevant\n",
      "0  destin charger charg normal car 7kw super netw...         1\n",
      "0  thank make frick spaceflight feel normal const...         0\n",
      "0             super charger work hard holiday season         1\n",
      "0       egyptian bitch blush vintag tux dilling tuck         0\n",
      "0                       angel heaven silk bed fill _         0\n"
     ]
    }
   ],
   "source": [
    "le = preprocessing.LabelEncoder()\n",
    "le.fit(df['relevant'])\n",
    "labels = le.transform(df['relevant']) \n",
    "df['relevant'] = labels\n",
    "\n",
    "print(df.head())"
   ]
  },
  {
   "cell_type": "code",
   "execution_count": 34,
   "metadata": {},
   "outputs": [],
   "source": [
    "stemmer = SnowballStemmer(\"english\", ignore_stopwords=True)\n",
    "class StemmedCountVectorizer(CountVectorizer):\n",
    "    def build_analyzer(self):\n",
    "        analyzer = super(StemmedCountVectorizer, self).build_analyzer()\n",
    "        return lambda doc: ([stemmer.stem(w) for w in analyzer(doc)])\n",
    "\n",
    "stemmed_count_vect = StemmedCountVectorizer(stop_words='english')\n",
    "text_clf_pipe = Pipeline([('vect', stemmed_count_vect),\n",
    "                     ('tfidf', TfidfTransformer()),\n",
    "                     ('mnb', MultinomialNB(fit_prior=False)),])"
   ]
  },
  {
   "cell_type": "code",
   "execution_count": 39,
   "metadata": {},
   "outputs": [
    {
     "name": "stdout",
     "output_type": "stream",
     "text": [
      "Train Set \n",
      "Accuracy: 0.9307\n",
      "Recall: 0.9311\n",
      "Precision: 0.9280\n",
      "F-Score: 0.9294\n",
      "\n",
      "Train Set \n",
      "Accuracy: 0.6464\n",
      "Recall: 0.6420\n",
      "Precision: 0.6410\n",
      "F-Score: 0.6414\n"
     ]
    }
   ],
   "source": [
    "def warn(*args, **kwargs):\n",
    "    pass\n",
    "import warnings\n",
    "warnings.warn = warn\n",
    "\n",
    "x_train, x_test, y_train, y_test = train_test_split(df['text'], df['relevant'], test_size=0.25)\n",
    "\n",
    "averageType = \"macro\"\n",
    "text_clf = text_clf_pipe.fit(x_train, y_train)\n",
    "y_pred = text_clf.predict(x_train)\n",
    "accuracy = accuracy_score(y_train, y_pred)\n",
    "print(\"Train Set \\nAccuracy: %0.4f\" % (accuracy))\n",
    "recall = recall_score(y_train, y_pred, average=averageType)\n",
    "print(\"Recall: %0.4f\" % recall)\n",
    "precision = precision_score(y_train, y_pred, average=averageType)\n",
    "print(\"Precision: %0.4f\" % precision)\n",
    "f1 = f1_score(y_train, y_pred, average=averageType)\n",
    "print(\"F-Score: %0.4f\" % f1)\n",
    "values_train = accuracy, recall, precision, f1\n",
    "\n",
    "y_pred = text_clf.predict(x_test)\n",
    "accuracy = accuracy_score(y_test, y_pred)\n",
    "print(\"\\nTrain Set \\nAccuracy: %0.4f\" % (accuracy))\n",
    "recall = recall_score(y_test, y_pred, average=averageType)\n",
    "print(\"Recall: %0.4f\" % recall)\n",
    "precision = precision_score(y_test, y_pred, average=averageType)\n",
    "print(\"Precision: %0.4f\" % precision)\n",
    "f1 = f1_score(y_test, y_pred, average=averageType)\n",
    "print(\"F-Score: %0.4f\" % f1)\n",
    "values_test = accuracy, recall, precision, f1\n",
    "values_compiled = np.array([values_train, values_test]).transpose()"
   ]
  },
  {
   "cell_type": "code",
   "execution_count": 40,
   "metadata": {},
   "outputs": [
    {
     "ename": "AttributeError",
     "evalue": "'AxesSubplot' object has no attribute 'set_color_cycle'",
     "output_type": "error",
     "traceback": [
      "\u001b[1;31m---------------------------------------------------------------------------\u001b[0m",
      "\u001b[1;31mAttributeError\u001b[0m                            Traceback (most recent call last)",
      "\u001b[1;32m<ipython-input-40-4ca2b7dcd6b6>\u001b[0m in \u001b[0;36m<module>\u001b[1;34m()\u001b[0m\n\u001b[0;32m     17\u001b[0m \u001b[1;33m\u001b[0m\u001b[0m\n\u001b[0;32m     18\u001b[0m \u001b[0max1\u001b[0m \u001b[1;33m=\u001b[0m \u001b[0mfig\u001b[0m\u001b[1;33m.\u001b[0m\u001b[0madd_subplot\u001b[0m\u001b[1;33m(\u001b[0m\u001b[1;36m2\u001b[0m\u001b[1;33m,\u001b[0m\u001b[1;36m2\u001b[0m\u001b[1;33m,\u001b[0m\u001b[1;36m1\u001b[0m\u001b[1;33m)\u001b[0m\u001b[1;33m\u001b[0m\u001b[0m\n\u001b[1;32m---> 19\u001b[1;33m \u001b[0max1\u001b[0m\u001b[1;33m.\u001b[0m\u001b[0mset_color_cycle\u001b[0m\u001b[1;33m(\u001b[0m\u001b[1;33m[\u001b[0m\u001b[0mscalarMap\u001b[0m\u001b[1;33m.\u001b[0m\u001b[0mto_rgba\u001b[0m\u001b[1;33m(\u001b[0m\u001b[0mi\u001b[0m\u001b[1;33m)\u001b[0m \u001b[1;32mfor\u001b[0m \u001b[0mi\u001b[0m \u001b[1;32min\u001b[0m \u001b[0mrange\u001b[0m\u001b[1;33m(\u001b[0m\u001b[0mNUM_COLORS\u001b[0m\u001b[1;33m)\u001b[0m\u001b[1;33m]\u001b[0m\u001b[1;33m)\u001b[0m\u001b[1;33m\u001b[0m\u001b[0m\n\u001b[0m\u001b[0;32m     20\u001b[0m \u001b[0max1\u001b[0m\u001b[1;33m.\u001b[0m\u001b[0mpie\u001b[0m\u001b[1;33m(\u001b[0m\u001b[0mtrainCatDict\u001b[0m\u001b[1;33m.\u001b[0m\u001b[0mvalues\u001b[0m\u001b[1;33m(\u001b[0m\u001b[1;33m)\u001b[0m\u001b[1;33m,\u001b[0m \u001b[0mstartangle\u001b[0m\u001b[1;33m=\u001b[0m\u001b[1;36m90\u001b[0m\u001b[1;33m)\u001b[0m\u001b[1;33m\u001b[0m\u001b[0m\n\u001b[0;32m     21\u001b[0m \u001b[0max1\u001b[0m\u001b[1;33m.\u001b[0m\u001b[0maxis\u001b[0m\u001b[1;33m(\u001b[0m\u001b[1;34m'equal'\u001b[0m\u001b[1;33m)\u001b[0m  \u001b[1;31m# Equal aspect ratio ensures that pie is drawn as a circle.\u001b[0m\u001b[1;33m\u001b[0m\u001b[0m\n",
      "\u001b[1;31mAttributeError\u001b[0m: 'AxesSubplot' object has no attribute 'set_color_cycle'"
     ]
    },
    {
     "data": {
      "image/png": "[encoded data removed]",
      "text/plain": [
       "<Figure size 1008x720 with 1 Axes>"
      ]
     },
     "metadata": {
      "needs_background": "light"
     },
     "output_type": "display_data"
    }
   ],
   "source": [
    "#Plot test set topic values and predicted topic values\n",
    "NUM_COLORS = 22\n",
    "cm = plt.get_cmap('gist_ncar')\n",
    "cNorm  = colors.Normalize(vmin=0, vmax=NUM_COLORS-1)\n",
    "scalarMap = mplcm.ScalarMappable(norm=cNorm, cmap=cm)\n",
    "\n",
    "allTopics = le.classes_\n",
    "y_pred = text_clf.predict(x_train)\n",
    "fig = plt.figure(figsize=(14,10))\n",
    "\n",
    "trainCategories = list(le.inverse_transform(y_train))\n",
    "trainCatDict = defaultdict(float)\n",
    "for topic in allTopics:\n",
    "    trainCatDict[topic] += 0.00000001\n",
    "for category in trainCategories:\n",
    "    trainCatDict[category] += 1\n",
    "\n",
    "ax1 = fig.add_subplot(2,2,1)\n",
    "ax1.set_color_cycle([scalarMap.to_rgba(i) for i in range(NUM_COLORS)])\n",
    "ax1.pie(trainCatDict.values(), startangle=90)\n",
    "ax1.axis('equal')  # Equal aspect ratio ensures that pie is drawn as a circle.\n",
    "ax1.set_title('Train True Topics',fontsize=14)\n",
    "\n",
    "predCategories = list(le.inverse_transform(y_pred))\n",
    "predCatDict = defaultdict(float)\n",
    "for topic in allTopics:\n",
    "    predCatDict[topic] += 0.00000001\n",
    "for category in predCategories:\n",
    "    predCatDict[category] += 1\n",
    "\n",
    "ax2 = fig.add_subplot(2,2,2)    \n",
    "ax2.set_color_cycle([scalarMap.to_rgba(i) for i in range(NUM_COLORS)])\n",
    "ax2.pie(predCatDict.values(), startangle=90)\n",
    "ax2.axis('equal')  # Equal aspect ratio ensures that pie is drawn as a circle.\n",
    "ax2.set_title('Train Predicted Topics',fontsize=14)\n",
    "ax2.legend(allTopics)\n",
    "y_pred = text_clf.predict(x_test)\n",
    "testCategories = list(le.inverse_transform(y_test))\n",
    "testCatDict = defaultdict(int)\n",
    "for topic in allTopics:\n",
    "    testCatDict[topic] += 0.00000001\n",
    "for category in testCategories:\n",
    "    testCatDict[category] += 1\n",
    "\n",
    "ax3 = fig.add_subplot(2,2,3)\n",
    "ax3.set_color_cycle([scalarMap.to_rgba(i) for i in range(NUM_COLORS)])\n",
    "ax3.pie(testCatDict.values(), startangle=90)\n",
    "ax3.axis('equal')  # Equal aspect ratio ensures that pie is drawn as a circle.\n",
    "ax3.set_title('Test True Topics',fontsize=14)\n",
    "\n",
    "predCategories = list(le.inverse_transform(y_pred))\n",
    "predCatDict = defaultdict(int)\n",
    "for topic in allTopics:\n",
    "    predCatDict[topic] += 0.00000001\n",
    "for category in predCategories:\n",
    "    predCatDict[category] += 1\n",
    "\n",
    "ax4 = fig.add_subplot(2,2,4)    \n",
    "ax4.set_color_cycle([scalarMap.to_rgba(i) for i in range(NUM_COLORS)])\n",
    "ax4.pie(predCatDict.values(), startangle=90)\n",
    "ax4.axis('equal')  # Equal aspect ratio ensures that pie is drawn as a circle.\n",
    "ax4.set_title('Test Predicted Topics',fontsize=14)"
   ]
  },
  {
   "cell_type": "code",
   "execution_count": null,
   "metadata": {},
   "outputs": [],
   "source": []
  }
 ],
 "metadata": {
  "kernelspec": {
   "display_name": "Python 3",
   "language": "python",
   "name": "python3"
  },
  "language_info": {
   "codemirror_mode": {
    "name": "ipython",
    "version": 3
   },
   "file_extension": ".py",
   "mimetype": "text/x-python",
   "name": "python",
   "nbconvert_exporter": "python",
   "pygments_lexer": "ipython3",
   "version": "3.7.0"
  }
 },
 "nbformat": 4,
 "nbformat_minor": 2
}
