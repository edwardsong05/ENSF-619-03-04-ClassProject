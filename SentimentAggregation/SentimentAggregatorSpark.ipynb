{
 "cells": [
  {
   "cell_type": "code",
   "execution_count": 1,
   "metadata": {},
   "outputs": [
    {
     "name": "stderr",
     "output_type": "stream",
     "text": [
      "INFO:sparkhpc.sparkjob:Submitted batch job 636839\n",
      "\n"
     ]
    },
    {
     "name": "stdout",
     "output_type": "stream",
     "text": [
      "Cleaning up Spark Job\n"
     ]
    },
    {
     "name": "stderr",
     "output_type": "stream",
     "text": [
      "INFO:sparkhpc.sparkjob:Submitted cluster 0\n"
     ]
    },
    {
     "name": "stdout",
     "output_type": "stream",
     "text": [
      "Cleaning up Spark Context\n",
      "RUNNING\n"
     ]
    }
   ],
   "source": [
    "import os\n",
    "import atexit\n",
    "import sys\n",
    "import pyspark\n",
    "from pyspark.context import SparkContext\n",
    "from pyspark.sql import SQLContext\n",
    "import findspark\n",
    "from sparkhpc import sparkjob\n",
    "import pandas\n",
    "from pyspark.sql import SparkSession\n",
    "\n",
    "#Exit handler to clean up the Spark cluster if the script exits or crashes\n",
    "def exitHandler(sj,sc):\n",
    "    try:\n",
    "        print('Trapped Exit cleaning up Spark Context')\n",
    "        sc.stop()\n",
    "    except:\n",
    "        pass\n",
    "    try:\n",
    "        print('Trapped Exit cleaning up Spark Job')\n",
    "        sj.stop()\n",
    "    except:\n",
    "        pass\n",
    "\n",
    "findspark.init()\n",
    "\n",
    "#Parameters for the Spark cluster\n",
    "nodes=3\n",
    "tasks_per_node=8 \n",
    "memory_per_task=1024 #1 gig per process, adjust accordingly\n",
    "# Please estimate walltime carefully to keep unused Spark clusters from sitting \n",
    "# idle so that others may use the resources.\n",
    "walltime=\"3:00\" #60 min \n",
    "os.environ['SBATCH_PARTITION']='lattice' #Set the appropriate ARC partition\n",
    "\n",
    "sj = sparkjob.sparkjob(\n",
    "     ncores=nodes*tasks_per_node,\n",
    "     cores_per_executor=tasks_per_node,\n",
    "     memory_per_core=memory_per_task,\n",
    "     walltime=walltime\n",
    "    )\n",
    "\n",
    "try:\n",
    "    print('Cleaning up Spark Job')\n",
    "    sj.stop()\n",
    "except:\n",
    "    pass\n",
    "\n",
    "sj.wait_to_start()\n",
    "\n",
    "try:\n",
    "    print('Cleaning up Spark Context')\n",
    "    sc.stop()\n",
    "except:\n",
    "    pass\n",
    "\n",
    "sc = sj.start_spark()\n",
    "\n",
    "#Register the exit handler                                                                                                     \n",
    "atexit.register(exitHandler,sj,sc)\n",
    "\n",
    "#You need this line if you want to use SparkSQL\n",
    "sqlCtx=SQLContext(sc)\n",
    "print(\"RUNNING\")"
   ]
  },
  {
   "cell_type": "code",
   "execution_count": 2,
   "metadata": {},
   "outputs": [],
   "source": [
    "import json\n",
    "import numpy as np\n",
    "import pandas as pd\n",
    "import matplotlib.pyplot as plt\n",
    "\n",
    "from sklearn.model_selection import train_test_split\n",
    "from sklearn.pipeline import Pipeline\n",
    "from sklearn.feature_extraction.text import CountVectorizer\n",
    "from sklearn.feature_extraction.text import TfidfTransformer\n",
    "from sklearn.naive_bayes import MultinomialNB\n",
    "from collections import defaultdict\n",
    "from datetime import datetime\n",
    "\n",
    "from nltk.tokenize import RegexpTokenizer\n",
    "from nltk.stem import PorterStemmer\n",
    "from nltk.corpus import stopwords\n",
    "import re"
   ]
  },
  {
   "cell_type": "code",
   "execution_count": 3,
   "metadata": {},
   "outputs": [],
   "source": [
    "##RELEVANCE PREPROCESSING\n",
    "#remove stop words\n",
    "stop_words = {'elonmusk', 'tesla', 'get', 'at_tesla', 'at_elonmusk'}\n",
    "tokenizer = RegexpTokenizer(r'\\w+') # remove punctuation and keep only words\n",
    "\n",
    "def remove_stop(tweet: str):\n",
    "    words = []\n",
    "    tokens = tokenizer.tokenize(tweet)\n",
    "    for token in tokens:\n",
    "        if token not in stop_words:\n",
    "            words.append(token)\n",
    "    return ' '.join(words)\n",
    "\n",
    "def process_tweet(tweet: str):\n",
    "    tweet = tweet.lower() # convert to lowercase\n",
    "    tweet = re.sub('\\s+', ' ', tweet) # remove multiple whitespace\n",
    "    tweet = remove_stop(tweet)\n",
    "    tweet.strip() # remove excess leading and trailing whitespace\n",
    "    return tweet\n",
    "\n",
    "def parse_then_process(tweetObject: str):\n",
    "    item = json.loads(tweetObject) # read the tweet object\n",
    "    item['text'] = process_tweet(item['text']) # process the tweet text\n",
    "    return json.dumps(item)"
   ]
  },
  {
   "cell_type": "code",
   "execution_count": 4,
   "metadata": {},
   "outputs": [],
   "source": [
    "##SENTIMENT PREPROCESSING\n",
    "stop_words_sent = {'elonmusk', 'tesla', 'get', 'at_tesla', 'at_elonmusk'}\n",
    "tokenizer_sent = RegexpTokenizer(r'\\w+') # remove punctuation and keep only words\n",
    "\n",
    "def remove_stop_sent(tweet: str):\n",
    "    words = []\n",
    "    tokens = tokenizer_sent.tokenize(tweet)\n",
    "    for token in tokens:\n",
    "        if token not in stop_words_sent:\n",
    "            words.append(token)\n",
    "    return ' '.join(words)\n",
    "\n",
    "def process_tweet_sent(tweet: str):\n",
    "    tweet = tweet.lower() # convert to lowercase\n",
    "    tweet = re.sub('\\s+', ' ', tweet) # remove multiple whitespace\n",
    "    tweet = remove_stop_sent(tweet)\n",
    "    tweet.strip() # remove excess leading and trailing whitespace\n",
    "    return tweet\n",
    "\n",
    "def parse_then_process_sent(tweetObject: str):\n",
    "    item = json.loads(tweetObject) # read the tweet object\n",
    "    item['text'] = process_tweet_sent(item['text']) # process the tweet text\n",
    "    return json.dumps(item)"
   ]
  },
  {
   "cell_type": "code",
   "execution_count": 5,
   "metadata": {},
   "outputs": [],
   "source": [
    "#Load in labeled tweets\n",
    "rddLabeled = sc.textFile(\"../Data/CombinedLabeled.json\")"
   ]
  },
  {
   "cell_type": "code",
   "execution_count": 6,
   "metadata": {},
   "outputs": [
    {
     "name": "stdout",
     "output_type": "stream",
     "text": [
      "Text:  lileeny those are destination chargers and charge most normal cars at 7kw the super charger network c https t co dponggcdnn \n",
      "Relevance Label: 1\n"
     ]
    }
   ],
   "source": [
    "#Extract text and relevance label\n",
    "def getRelLabel(line):\n",
    "    jline = json.loads(line)\n",
    "    return (jline['text'], int(jline['isRelevant']))\n",
    "##Preprocess text for relevance classifier\n",
    "rddRelProcessed = rddLabeled.map(parse_then_process)\n",
    "relLabels = rddRelProcessed.map(getRelLabel)\n",
    "firstLabel = relLabels.first()\n",
    "print(\"Text: \", firstLabel[0], \"\\nRelevance Label:\", firstLabel[1])"
   ]
  },
  {
   "cell_type": "code",
   "execution_count": 7,
   "metadata": {},
   "outputs": [],
   "source": [
    "##Fit relevant classification model\n",
    "pipeRelevant = Pipeline([('vect', CountVectorizer()),\n",
    "                         ('tfidf', TfidfTransformer()),\n",
    "                         ('mnb', MultinomialNB(fit_prior=False)),])\n",
    "relData = relLabels.collect()\n",
    "trainText = [i[0] for i in relData]\n",
    "trainLabel = [i[1] for i in relData]\n",
    "modelRelevant = pipeRelevant.fit(trainText, trainLabel)"
   ]
  },
  {
   "cell_type": "code",
   "execution_count": 8,
   "metadata": {
    "scrolled": true
   },
   "outputs": [
    {
     "name": "stdout",
     "output_type": "stream",
     "text": [
      "Text:  lileeny those are destination chargers and charge most normal cars at 7kw the super charger network c https t co dponggcdnn \n",
      "Sentiment Label: 1\n"
     ]
    }
   ],
   "source": [
    "#Extract text and sentiment label\n",
    "#0 = negative, 1 = neutral, 2 = positive\n",
    "def isRelevant(line):\n",
    "    jline = json.loads(line)\n",
    "    if int(jline['isRelevant']):\n",
    "        return True\n",
    "    return False\n",
    "\n",
    "def getSentLabel(line):\n",
    "    jline = json.loads(line)\n",
    "    return (jline['text'], int(jline['sentiment']))\n",
    "\n",
    "##Preprocess text for sentiment classifier\n",
    "rddRelevant = rddRelProcessed.filter(isRelevant)\n",
    "rddSentProcessed = rddRelevant.map(parse_then_process_sent)\n",
    "\n",
    "sentLabels = rddSentProcessed.map(getSentLabel)\n",
    "firstLabel = sentLabels.first()\n",
    "print(\"Text: \", firstLabel[0], \"\\nSentiment Label:\", firstLabel[1])"
   ]
  },
  {
   "cell_type": "code",
   "execution_count": 9,
   "metadata": {
    "scrolled": false
   },
   "outputs": [],
   "source": [
    "##Fit sentiment classification model\n",
    "pipeSentiment = Pipeline([('vect', CountVectorizer()),\n",
    "                          ('tfidf', TfidfTransformer()),\n",
    "                          ('mnb', MultinomialNB(fit_prior=False)),])\n",
    "sentData = sentLabels.collect()\n",
    "trainText = [i[0] for i in sentData]\n",
    "trainLabel = [i[1] for i in sentData]\n",
    "modelSentiment = pipeSentiment.fit(trainText, trainLabel)"
   ]
  },
  {
   "cell_type": "code",
   "execution_count": 10,
   "metadata": {},
   "outputs": [],
   "source": [
    "#Load in full filtered tweet set\n",
    "rddFull = sc.textFile(\"../Data/allFiltered4.json\")"
   ]
  },
  {
   "cell_type": "code",
   "execution_count": 11,
   "metadata": {},
   "outputs": [],
   "source": [
    "##Process and extract text from set\n",
    "def getText(line):\n",
    "    jline = json.loads(line)\n",
    "    return jline['text']\n",
    "rddRelProcessed = rddFull.map(parse_then_process)"
   ]
  },
  {
   "cell_type": "code",
   "execution_count": 12,
   "metadata": {
    "scrolled": true
   },
   "outputs": [],
   "source": [
    "#Make predictions on relevant tweets\n",
    "def classifyRelevance(line):\n",
    "    jline = json.loads(line)\n",
    "    label = int(modelRelevant.predict((jline['text'],))[0])\n",
    "    jline['isRelevant'] = label\n",
    "    return json.dumps(jline)\n",
    "\n",
    "rddRelClassified = rddRelProcessed.map(classifyRelevance)"
   ]
  },
  {
   "cell_type": "code",
   "execution_count": 13,
   "metadata": {
    "scrolled": true
   },
   "outputs": [
    {
     "name": "stdout",
     "output_type": "stream",
     "text": [
      "Number of relevant tweets:  10206\n"
     ]
    }
   ],
   "source": [
    "#Filter out irrelevant tweets\n",
    "rddRelevant = rddRelClassified.filter(isRelevant)\n",
    "print(\"Number of relevant tweets: \", rddRelevant.count())\n",
    "#Pre process tweets for the classifier\n",
    "rddSentProcessed = rddRelevant.map(parse_then_process_sent)"
   ]
  },
  {
   "cell_type": "code",
   "execution_count": 14,
   "metadata": {},
   "outputs": [],
   "source": [
    "#Make sentiment predictions on relevant tweets\n",
    "def classifySentiment(line):\n",
    "    jline = json.loads(line)\n",
    "    label = int(modelSentiment.predict((jline['text'],))[0])\n",
    "    jline['sentiment'] = label\n",
    "    return json.dumps(jline)\n",
    "\n",
    "rddSentClassified = rddSentProcessed.map(classifySentiment)"
   ]
  },
  {
   "cell_type": "code",
   "execution_count": 15,
   "metadata": {
    "scrolled": true
   },
   "outputs": [],
   "source": [
    "##Take the timestamp and sentiment labels from the rdd\n",
    "def extractSentimentAndTimestamp(line):\n",
    "    jline = json.loads(line)\n",
    "    sentiment = int(jline['sentiment'])\n",
    "    timestamp = int(jline['timestamp_ms'])\n",
    "    return (timestamp, sentiment)\n",
    "\n",
    "timeSent = rddSentClassified.map(extractSentimentAndTimestamp).collect()"
   ]
  },
  {
   "cell_type": "code",
   "execution_count": 16,
   "metadata": {},
   "outputs": [
    {
     "name": "stdout",
     "output_type": "stream",
     "text": [
      "(1546372267107, 1)\n",
      "(1546372485007, 2)\n",
      "(1546372687470, 2)\n",
      "(1546373494329, 2)\n",
      "(1546373635157, 2)\n",
      "(1546374029442, 2)\n",
      "(1546374526952, 1)\n",
      "(1546374602109, 2)\n",
      "(1546375521745, 2)\n",
      "(1546375739216, 2)\n"
     ]
    }
   ],
   "source": [
    "##Check that output is correct\n",
    "for i in range(10):\n",
    "    print(timeSent[i])"
   ]
  },
  {
   "cell_type": "code",
   "execution_count": 17,
   "metadata": {
    "scrolled": true
   },
   "outputs": [
    {
     "name": "stdout",
     "output_type": "stream",
     "text": [
      "   sentiment        date\n",
      "0          0  2019-01-01\n",
      "1          1  2019-01-01\n",
      "2          1  2019-01-01\n",
      "3          1  2019-01-01\n",
      "4          1  2019-01-01\n",
      "{0, 1, -1}\n"
     ]
    }
   ],
   "source": [
    "##convert timestamp to date\n",
    "def convertMsToDate(timestamp):\n",
    "    return datetime.utcfromtimestamp(int(timestamp)/1000).strftime('%Y-%m-%d')\n",
    "dfSent = pd.DataFrame(timeSent, columns=['timestamp_ms', 'sentiment'])\n",
    "dfSent['date'] = dfSent['timestamp_ms'].apply(convertMsToDate)\n",
    "dfSent = dfSent.drop(['timestamp_ms'], axis = 1)\n",
    "dfSent['sentiment'] = dfSent['sentiment'] -1\n",
    "print(dfSent.head())\n",
    "print(set(dfSent['sentiment']))"
   ]
  },
  {
   "cell_type": "code",
   "execution_count": 18,
   "metadata": {
    "scrolled": true
   },
   "outputs": [
    {
     "name": "stdout",
     "output_type": "stream",
     "text": [
      "          Date  Sentiment Sums\n",
      "6   2018-12-23           237.0\n",
      "7   2018-12-24           272.0\n",
      "26  2018-12-25           197.0\n",
      "27  2018-12-26           260.0\n",
      "28  2018-12-27           262.0\n",
      "29  2018-12-28           274.0\n",
      "4   2018-12-29           357.0\n",
      "5   2018-12-30           237.0\n",
      "20  2018-12-31           196.0\n",
      "0   2019-01-01           175.0\n",
      "1   2019-01-02           189.0\n",
      "2   2019-01-03           202.0\n",
      "3   2019-01-04            50.0\n",
      "8   2019-01-05           168.0\n",
      "9   2019-01-06           204.0\n",
      "10  2019-01-07           282.0\n",
      "11  2019-01-08           201.0\n",
      "18  2019-01-09           245.0\n",
      "19  2019-01-10           260.0\n",
      "12  2019-01-12           147.0\n",
      "13  2019-01-13           162.0\n",
      "14  2019-01-14           210.0\n",
      "15  2019-01-15           271.0\n",
      "16  2019-01-16           181.0\n",
      "17  2019-01-17           235.0\n",
      "30  2019-01-18           164.0\n",
      "31  2019-01-19           182.0\n",
      "32  2019-01-20           135.0\n",
      "33  2019-01-21           126.0\n",
      "34  2019-01-22           146.0\n",
      "35  2019-01-23             9.0\n",
      "36  2019-01-24             NaN\n",
      "37  2019-01-25             NaN\n",
      "38  2019-01-26             NaN\n",
      "39  2019-01-27             NaN\n",
      "40  2019-01-28             NaN\n",
      "41  2019-01-29             NaN\n",
      "21  2019-01-30            66.0\n",
      "22  2019-01-31           203.0\n",
      "23  2019-02-01           200.0\n",
      "24  2019-02-02           219.0\n",
      "25  2019-02-03           178.0\n"
     ]
    }
   ],
   "source": [
    "sentSums = defaultdict(int)\n",
    "for index, row in dfSent.iterrows():\n",
    "    sentSums[row['date']] += row['sentiment']\n",
    "\n",
    "dates=[]\n",
    "sums=[]\n",
    "for date, sumval in sentSums.items():\n",
    "    dates.append(date)\n",
    "    sums.append(sumval)\n",
    "\n",
    "dfDateSent = pd.DataFrame(\n",
    "    {'Date': dates,\n",
    "     'Sentiment Sums': sums\n",
    "    })\n",
    "missingDates = ['2019-01-24', '2019-01-25', '2019-01-26', '2019-01-27', '2019-01-28', '2019-01-29']\n",
    "missingDatesList = [[date, np.nan] for date in missingDates]\n",
    "tempdf = pd.DataFrame(missingDatesList, columns=['Date', 'Sentiment Sums'])\n",
    "dfDateSent = dfDateSent.append(tempdf, ignore_index=True)\n",
    "dfDateSent = dfDateSent.sort_values(by=['Date'])\n",
    "\n",
    "print(dfDateSent)"
   ]
  },
  {
   "cell_type": "code",
   "execution_count": 19,
   "metadata": {},
   "outputs": [
    {
     "name": "stdout",
     "output_type": "stream",
     "text": [
      "         Date  Stock Price\n",
      "0  2018-12-24   295.390015\n",
      "1  2018-12-26   326.089996\n",
      "2  2018-12-27   316.130005\n",
      "3  2018-12-28   333.869995\n",
      "4  2018-12-31   332.799988\n"
     ]
    }
   ],
   "source": [
    "#Read in stock prices\n",
    "dfStock = pd.read_csv('../Data/tsla_stock.csv')\n",
    "dfStock = dfStock.drop(['Open', 'High', 'Low', 'Adj Close', 'Volume'], axis = 1)\n",
    "dfStock = dfStock.rename(index=str, columns={\"Close\": \"Stock Price\"})\n",
    "print(dfStock.head())"
   ]
  },
  {
   "cell_type": "code",
   "execution_count": 20,
   "metadata": {},
   "outputs": [
    {
     "name": "stdout",
     "output_type": "stream",
     "text": [
      "         Date  Sentiment Sums  Stock Price\n",
      "0  2018-12-23           237.0          NaN\n",
      "1  2018-12-24           272.0   295.390015\n",
      "2  2018-12-25           197.0          NaN\n",
      "3  2018-12-26           260.0   326.089996\n",
      "4  2018-12-27           262.0   316.130005\n"
     ]
    }
   ],
   "source": [
    "#Merge sentiment dataframe with stock price dataframe\n",
    "dfMerged = dfDateSent.merge(dfStock, how='left', on='Date')\n",
    "#dfMerged = dfMerged.set_index('Date')\n",
    "print(dfMerged.head())"
   ]
  },
  {
   "cell_type": "code",
   "execution_count": 21,
   "metadata": {
    "scrolled": false
   },
   "outputs": [
    {
     "data": {
      "image/png": "[encoded data removed]",
      "text/plain": [
       "<Figure size 720x576 with 2 Axes>"
      ]
     },
     "metadata": {
      "needs_background": "light"
     },
     "output_type": "display_data"
    }
   ],
   "source": [
    "%matplotlib inline\n",
    "x = dfMerged['Date']\n",
    "\n",
    "x = [datetime.strptime(str(i), '%Y-%m-%d') for i in x]\n",
    "y1 = dfMerged['Stock Price']\n",
    "y2 = dfMerged['Sentiment Sums']\n",
    "\n",
    "fig, ax1 = plt.subplots(figsize=(10, 8))\n",
    "\n",
    "color = 'tab:red'\n",
    "ax1.set_xlabel('Date')\n",
    "ax1.set_ylabel('TSLA Stock Price', color=color)\n",
    "ax1.plot(x, y1, color=color)\n",
    "ax1.tick_params(axis='y', labelcolor=color)\n",
    "\n",
    "ax2 = ax1.twinx()  # instantiate a second axes that shares the same x-axis\n",
    "color = 'tab:blue'\n",
    "ax2.set_ylabel('Daily Sentiment Sums', color=color)  # we already handled the x-label with ax1\n",
    "ax2.plot(x, y2, color=color)\n",
    "ax2.tick_params(axis='y', labelcolor=color)\n",
    "for tick in ax1.get_xticklabels():\n",
    "    tick.set_rotation(45)\n",
    "plt.title(\"TSLA Stock and Tweet Sentiment\")\n",
    "fig.savefig(\"aaafig.pdf\")"
   ]
  },
  {
   "cell_type": "code",
   "execution_count": null,
   "metadata": {},
   "outputs": [],
   "source": []
  }
 ],
 "metadata": {
  "kernelspec": {
   "display_name": "Python 3",
   "language": "python",
   "name": "python3"
  },
  "language_info": {
   "codemirror_mode": {
    "name": "ipython",
    "version": 3
   },
   "file_extension": ".py",
   "mimetype": "text/x-python",
   "name": "python",
   "nbconvert_exporter": "python",
   "pygments_lexer": "ipython3",
   "version": "3.7.2"
  }
 },
 "nbformat": 4,
 "nbformat_minor": 2
}
