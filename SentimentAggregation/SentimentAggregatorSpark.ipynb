{
 "cells": [
  {
   "cell_type": "code",
   "execution_count": 1,
   "metadata": {},
   "outputs": [
    {
     "name": "stderr",
     "output_type": "stream",
     "text": [
      "INFO:sparkhpc.sparkjob:Submitted batch job 699678\n",
      "\n",
      "INFO:sparkhpc.sparkjob:Submitted cluster 0\n"
     ]
    },
    {
     "name": "stdout",
     "output_type": "stream",
     "text": [
      "Cleaning up Spark Job\n",
      "Cleaning up Spark Context\n",
      "RUNNING\n"
     ]
    }
   ],
   "source": [
    "import os\n",
    "import atexit\n",
    "import sys\n",
    "import pyspark\n",
    "from pyspark.context import SparkContext\n",
    "from pyspark.sql import SQLContext\n",
    "import findspark\n",
    "from sparkhpc import sparkjob\n",
    "import pandas\n",
    "from pyspark.sql import SparkSession\n",
    "\n",
    "#Exit handler to clean up the Spark cluster if the script exits or crashes\n",
    "def exitHandler(sj,sc):\n",
    "    try:\n",
    "        print('Trapped Exit cleaning up Spark Context')\n",
    "        sc.stop()\n",
    "    except:\n",
    "        pass\n",
    "    try:\n",
    "        print('Trapped Exit cleaning up Spark Job')\n",
    "        sj.stop()\n",
    "    except:\n",
    "        pass\n",
    "\n",
    "findspark.init()\n",
    "\n",
    "#Parameters for the Spark cluster\n",
    "nodes=3\n",
    "tasks_per_node=8 \n",
    "memory_per_task=1024 #1 gig per process, adjust accordingly\n",
    "# Please estimate walltime carefully to keep unused Spark clusters from sitting \n",
    "# idle so that others may use the resources.\n",
    "walltime=\"2:00\" #60 min \n",
    "os.environ['SBATCH_PARTITION']='lattice' #Set the appropriate ARC partition\n",
    "\n",
    "sj = sparkjob.sparkjob(\n",
    "     ncores=nodes*tasks_per_node,\n",
    "     cores_per_executor=tasks_per_node,\n",
    "     memory_per_core=memory_per_task,\n",
    "     walltime=walltime\n",
    "    )\n",
    "\n",
    "try:\n",
    "    print('Cleaning up Spark Job')\n",
    "    sj.stop()\n",
    "except:\n",
    "    pass\n",
    "\n",
    "sj.wait_to_start()\n",
    "\n",
    "try:\n",
    "    print('Cleaning up Spark Context')\n",
    "    sc.stop()\n",
    "except:\n",
    "    pass\n",
    "\n",
    "sc = sj.start_spark()\n",
    "\n",
    "#Register the exit handler                                                                                                     \n",
    "atexit.register(exitHandler,sj,sc)\n",
    "\n",
    "#You need this line if you want to use SparkSQL\n",
    "sqlCtx=SQLContext(sc)\n",
    "print(\"RUNNING\")"
   ]
  },
  {
   "cell_type": "code",
   "execution_count": 2,
   "metadata": {},
   "outputs": [],
   "source": [
    "import json\n",
    "import numpy as np\n",
    "import pandas as pd\n",
    "import matplotlib.pyplot as plt\n",
    "\n",
    "from sklearn.model_selection import train_test_split\n",
    "from sklearn.pipeline import Pipeline\n",
    "from sklearn.feature_extraction.text import CountVectorizer\n",
    "from sklearn.feature_extraction.text import TfidfTransformer\n",
    "from sklearn.naive_bayes import MultinomialNB\n",
    "from collections import defaultdict\n",
    "from datetime import datetime\n",
    "\n",
    "from nltk.tokenize import RegexpTokenizer\n",
    "from nltk.stem import WordNetLemmatizer\n",
    "from nltk.stem import PorterStemmer\n",
    "from nltk.corpus import stopwords\n",
    "import re\n",
    "import emoji"
   ]
  },
  {
   "cell_type": "code",
   "execution_count": 3,
   "metadata": {},
   "outputs": [],
   "source": [
    "# process the tweet and adds in negation terms\n",
    "# adds a not to every word after a token of logical negation\n",
    "# until the next puncutation mark\n",
    "puncuation = {'\"', ',', '.', '?', '!'}\n",
    "\n",
    "# adapted from https://stackoverflow.com/questions/23384351/how-to-add-tags-to-negated-words-in-strings-that-follow-not-no-and-never\n",
    "def check_and_negate(tweet: str):\n",
    "    tweet = tweet.strip()\n",
    "    # check if the end of the tweet has a puncuation mark and add if not\n",
    "    if len(tweet) > 0 and tweet[-1] not in puncuation:\n",
    "        tweet += '.'\n",
    "    tweet = re.sub('n\\'t', ' not', tweet) # replace n't with not\n",
    "    tweet = re.sub('n’t', ' not', tweet)\n",
    "    # add NOT_ to the beginning of each word until a end of sentence mark (.,!?) occurs\n",
    "    tweet = re.sub(r'\\b(?:not|never|no)\\b[\\'\\w\\s]+[.,?!\"]', \n",
    "                   lambda match: re.sub(r'(\\s+)(\\w+)', r'\\1not_\\2', match.group(0)), \n",
    "                   tweet,\n",
    "                   flags=re.IGNORECASE)\n",
    "    return tweet\n",
    "\n",
    "# remove stop words\n",
    "stop_words = set(stopwords.words('english'))\n",
    "\n",
    "# words used in the filter\n",
    "filterWords = {\"tesla\", \"elon\", \"musk\", \"elonmusk\", \"tsla\", \"roadster\", \"supercharger\", \"powerwall\", \"powerpack\", \"modely\",\n",
    "               \"model3\", \"modelx\", \"teslamodely\", \"teslamodels\", \"teslamodel3\", \"teslamodelx\", \"spacex\",\n",
    "               \"teslasuv\", \"teslascience\"}\n",
    "\n",
    "# bigrams used in the filter\n",
    "filterBigrams = {(\"model\", \"y\"), (\"model\", \"s\"), (\"model\", \"3\"), (\"model\", \"x\"), (\"electric\", \"vehicle\"),\n",
    "                 (\"electric\", \"car\"), (\"electric\", \"suv\"), (\"electric\", \"supercar\")}\n",
    "\n",
    "# stop words found using the word cloud (manual extraction)\n",
    "cloud = {'year', 'amp', 'us', 'one', 'think'}\n",
    "\n",
    "# add filter words to the stop words\n",
    "for word in filterWords:\n",
    "    stop_words.add(word)\n",
    "    \n",
    "# add filter bigrams to the stop words\n",
    "for bi1, bi2 in filterBigrams:\n",
    "    stop_words.add(bi1)\n",
    "    stop_words.add(bi2)\n",
    "    \n",
    "# add cloud to the stop words\n",
    "for word in cloud:\n",
    "    stop_words.add(word)\n",
    "\n",
    "tokenizer = RegexpTokenizer(r'\\w+') # remove punctuation and keep only words\n",
    "lemmatizer = WordNetLemmatizer()\n",
    "\n",
    "def remove_stop_and_stem(tweet: str):\n",
    "    words = []\n",
    "    tokens = tokenizer.tokenize(tweet)\n",
    "    for token in tokens:\n",
    "        if token not in stop_words: # remove stopwords\n",
    "            stemmed = lemmatizer.lemmatize(token) # stem the word\n",
    "            if stemmed not in words: # ensure only unique words for binary naive bayes\n",
    "                words.append(stemmed)\n",
    "    return ' '.join(words)\n",
    "\n",
    "# http://www.aclweb.org/anthology/W16-2610\n",
    "\n",
    "# transform emojis into text\n",
    "def transform_emojis(tweet: str):\n",
    "    result = ''\n",
    "    for character in tweet:\n",
    "        temp = character\n",
    "        if temp in emoji.UNICODE_EMOJI:\n",
    "            temp = ' emoji_' + emoji.demojize(temp)[1:-1]\n",
    "        result += temp\n",
    "    return result\n",
    "\n",
    "# processes the tweet\n",
    "# https://towardsdatascience.com/the-real-world-as-seen-on-twitter-sentiment-analysis-part-one-5ac2d06b63fb\n",
    "def process_tweet(tweet: str):\n",
    "    tweet = tweet.lower() # convert to lowercase\n",
    "    tweet = re.sub('#', '', tweet) # remove hashtags\n",
    "    tweet = re.sub('@tesla', 'at_tesla', tweet) # change @Tesla to at_tesla\n",
    "    tweet = re.sub('@elonmusk', 'elonmusk', tweet) # change @elonmusk to at_elonmusk\n",
    "    tweet = re.sub('@\\S+', '', tweet) # remove @username\n",
    "    tweet = re.sub('\\s+', ' ', tweet) # remove multiple whitespace\n",
    "    # https://stackoverflow.com/questions/6038061/regular-expression-to-find-urls-within-a-string\n",
    "    tweet = re.sub('(http|ftp|https)://([\\w_-]+(?:(?:\\.[\\w_-]+)+))([\\w.,@?^=%&:/~+#-]*[\\w@?^=%&/~+#-])?', '', tweet) # remove links\n",
    "    tweet = transform_emojis(tweet) # transform emojis\n",
    "    tweet = check_and_negate(tweet)# add negations\n",
    "    tweet = remove_stop_and_stem(tweet) # remove stop words and stem\n",
    "    tweet.strip() # remove excess leading and trailing whitespace\n",
    "    return tweet\n",
    "\n",
    "def filter_text(tweet: str):\n",
    "    # convert json object into python dict\n",
    "    item = json.loads(tweet)\n",
    "    if 'text' in item: # check that the dictionary contains the key\n",
    "        return True\n",
    "    else:\n",
    "        return False\n",
    "\n",
    "def parse_then_process(tweetObject: str):\n",
    "    item = json.loads(tweetObject) # read the tweet object\n",
    "    item['text'] = process_tweet(item['text']) # process the tweet text\n",
    "    return json.dumps(item)"
   ]
  },
  {
   "cell_type": "code",
   "execution_count": 4,
   "metadata": {},
   "outputs": [],
   "source": [
    "##SENTIMENT PREPROCESSING\n",
    "stop_words_sent = {'elonmusk', 'tesla', 'get', 'at_tesla', 'at_elonmusk'}\n",
    "tokenizer_sent = RegexpTokenizer(r'\\w+') # remove punctuation and keep only words\n",
    "\n",
    "def remove_stop_sent(tweet: str):\n",
    "    words = []\n",
    "    tokens = tokenizer_sent.tokenize(tweet)\n",
    "    for token in tokens:\n",
    "        if token not in stop_words_sent:\n",
    "            words.append(token)\n",
    "    return ' '.join(words)\n",
    "\n",
    "def process_tweet_sent(tweet: str):\n",
    "    tweet = tweet.lower() # convert to lowercase\n",
    "    tweet = re.sub('\\s+', ' ', tweet) # remove multiple whitespace\n",
    "    tweet = remove_stop_sent(tweet)\n",
    "    tweet.strip() # remove excess leading and trailing whitespace\n",
    "    return tweet\n",
    "\n",
    "def parse_then_process_sent(tweetObject: str):\n",
    "    item = json.loads(tweetObject) # read the tweet object\n",
    "    item['text'] = process_tweet_sent(item['text']) # process the tweet text\n",
    "    return json.dumps(item)"
   ]
  },
  {
   "cell_type": "code",
   "execution_count": 5,
   "metadata": {},
   "outputs": [],
   "source": [
    "#Load in labeled tweets\n",
    "rddLabeled = sc.textFile(\"../Data/CombinedLabeled.json\")"
   ]
  },
  {
   "cell_type": "code",
   "execution_count": 6,
   "metadata": {},
   "outputs": [
    {
     "name": "stdout",
     "output_type": "stream",
     "text": [
      "Text:  destination charger charge normal car 7kw super network c \n",
      "Relevance Label: 1\n"
     ]
    }
   ],
   "source": [
    "#Extract text and relevance label\n",
    "def getRelLabel(line):\n",
    "    jline = json.loads(line)\n",
    "    return (jline['text'], int(jline['isRelevant']))\n",
    "##Preprocess text for relevance classifier\n",
    "rddRelProcessed = rddLabeled.map(parse_then_process)\n",
    "relLabels = rddRelProcessed.map(getRelLabel)\n",
    "firstLabel = relLabels.first()\n",
    "print(\"Text: \", firstLabel[0], \"\\nRelevance Label:\", firstLabel[1])"
   ]
  },
  {
   "cell_type": "code",
   "execution_count": 7,
   "metadata": {},
   "outputs": [],
   "source": [
    "##Fit relevant classification model\n",
    "pipeRelevant = Pipeline([('vect', CountVectorizer()),\n",
    "                         ('tfidf', TfidfTransformer()),\n",
    "                         ('mnb', MultinomialNB(fit_prior=False)),])\n",
    "relData = relLabels.collect()\n",
    "trainText = [i[0] for i in relData]\n",
    "trainLabel = [i[1] for i in relData]\n",
    "modelRelevant = pipeRelevant.fit(trainText, trainLabel)"
   ]
  },
  {
   "cell_type": "code",
   "execution_count": 8,
   "metadata": {
    "scrolled": true
   },
   "outputs": [
    {
     "name": "stdout",
     "output_type": "stream",
     "text": [
      "Text:  destination charger charge normal car 7kw super network c \n",
      "Sentiment Label: 1\n"
     ]
    }
   ],
   "source": [
    "#Extract text and sentiment label\n",
    "#0 = negative, 1 = neutral, 2 = positive\n",
    "def isRelevant(line):\n",
    "    jline = json.loads(line)\n",
    "    if int(jline['isRelevant']):\n",
    "        return True\n",
    "    return False\n",
    "\n",
    "def getSentLabel(line):\n",
    "    jline = json.loads(line)\n",
    "    return (jline['text'], int(jline['sentiment']))\n",
    "\n",
    "##Preprocess text for sentiment classifier\n",
    "rddRelevant = rddRelProcessed.filter(isRelevant)\n",
    "rddSentProcessed = rddRelevant.map(parse_then_process_sent)\n",
    "\n",
    "sentLabels = rddSentProcessed.map(getSentLabel)\n",
    "firstLabel = sentLabels.first()\n",
    "print(\"Text: \", firstLabel[0], \"\\nSentiment Label:\", firstLabel[1])"
   ]
  },
  {
   "cell_type": "code",
   "execution_count": 9,
   "metadata": {
    "scrolled": false
   },
   "outputs": [],
   "source": [
    "##Fit sentiment classification model\n",
    "pipeSentiment = Pipeline([('vect', CountVectorizer()),\n",
    "                          ('tfidf', TfidfTransformer()),\n",
    "                          ('mnb', MultinomialNB(fit_prior=False)),])\n",
    "sentData = sentLabels.collect()\n",
    "trainText = [i[0] for i in sentData]\n",
    "trainLabel = [i[1] for i in sentData]\n",
    "modelSentiment = pipeSentiment.fit(trainText, trainLabel)"
   ]
  },
  {
   "cell_type": "code",
   "execution_count": 10,
   "metadata": {},
   "outputs": [],
   "source": [
    "#Load in full filtered tweet set\n",
    "rddFull = sc.textFile(\"../Data/allFiltered4.json\")"
   ]
  },
  {
   "cell_type": "code",
   "execution_count": 11,
   "metadata": {},
   "outputs": [],
   "source": [
    "##Process and extract text from set\n",
    "def getText(line):\n",
    "    jline = json.loads(line)\n",
    "    return jline['text']\n",
    "rddRelProcessed = rddFull.map(parse_then_process)"
   ]
  },
  {
   "cell_type": "code",
   "execution_count": 12,
   "metadata": {
    "scrolled": true
   },
   "outputs": [],
   "source": [
    "#Make predictions on relevant tweets\n",
    "def classifyRelevance(line):\n",
    "    jline = json.loads(line)\n",
    "    label = int(modelRelevant.predict((jline['text'],))[0])\n",
    "    jline['isRelevant'] = label\n",
    "    return json.dumps(jline)\n",
    "\n",
    "rddRelClassified = rddRelProcessed.map(classifyRelevance)"
   ]
  },
  {
   "cell_type": "code",
   "execution_count": 13,
   "metadata": {
    "scrolled": true
   },
   "outputs": [
    {
     "name": "stdout",
     "output_type": "stream",
     "text": [
      "Number of relevant tweets:  10786\n"
     ]
    }
   ],
   "source": [
    "#Filter out irrelevant tweets\n",
    "rddRelevant = rddRelClassified.filter(isRelevant)\n",
    "print(\"Number of relevant tweets: \", rddRelevant.count())\n",
    "#Pre process tweets for the classifier\n",
    "rddSentProcessed = rddRelevant.map(parse_then_process_sent)"
   ]
  },
  {
   "cell_type": "code",
   "execution_count": 14,
   "metadata": {},
   "outputs": [],
   "source": [
    "#Make sentiment predictions on relevant tweets\n",
    "def classifySentiment(line):\n",
    "    jline = json.loads(line)\n",
    "    label = int(modelSentiment.predict((jline['text'],))[0])\n",
    "    jline['sentiment'] = label\n",
    "    return json.dumps(jline)\n",
    "\n",
    "rddSentClassified = rddSentProcessed.map(classifySentiment)"
   ]
  },
  {
   "cell_type": "code",
   "execution_count": 15,
   "metadata": {
    "scrolled": true
   },
   "outputs": [],
   "source": [
    "##Take the timestamp and sentiment labels from the rdd\n",
    "def extractSentimentAndTimestamp(line):\n",
    "    jline = json.loads(line)\n",
    "    sentiment = int(jline['sentiment'])\n",
    "    timestamp = int(jline['timestamp_ms'])\n",
    "    return (timestamp, sentiment)\n",
    "\n",
    "timeSent = rddSentClassified.map(extractSentimentAndTimestamp).collect()"
   ]
  },
  {
   "cell_type": "code",
   "execution_count": 16,
   "metadata": {},
   "outputs": [
    {
     "name": "stdout",
     "output_type": "stream",
     "text": [
      "(1546372267107, 1)\n",
      "(1546372485007, 2)\n",
      "(1546372687470, 2)\n",
      "(1546372970795, 2)\n",
      "(1546372974975, 2)\n",
      "(1546373494329, 2)\n",
      "(1546373518711, 1)\n",
      "(1546373635157, 2)\n",
      "(1546374029442, 2)\n",
      "(1546374526952, 0)\n"
     ]
    }
   ],
   "source": [
    "##Check that output is correct\n",
    "for i in range(10):\n",
    "    print(timeSent[i])"
   ]
  },
  {
   "cell_type": "code",
   "execution_count": 17,
   "metadata": {
    "scrolled": true
   },
   "outputs": [
    {
     "name": "stdout",
     "output_type": "stream",
     "text": [
      "   sentiment        date\n",
      "0          0  2019-01-01\n",
      "1          1  2019-01-01\n",
      "2          1  2019-01-01\n",
      "3          1  2019-01-01\n",
      "4          1  2019-01-01\n",
      "{0, 1, -1}\n"
     ]
    }
   ],
   "source": [
    "##convert timestamp to date\n",
    "def convertMsToDate(timestamp):\n",
    "    return datetime.utcfromtimestamp(int(timestamp)/1000).strftime('%Y-%m-%d')\n",
    "dfSent = pd.DataFrame(timeSent, columns=['timestamp_ms', 'sentiment'])\n",
    "dfSent['date'] = dfSent['timestamp_ms'].apply(convertMsToDate)\n",
    "dfSent = dfSent.drop(['timestamp_ms'], axis = 1)\n",
    "dfSent['sentiment'] = dfSent['sentiment'] -1\n",
    "print(dfSent.head())\n",
    "print(set(dfSent['sentiment']))"
   ]
  },
  {
   "cell_type": "code",
   "execution_count": 18,
   "metadata": {
    "scrolled": true
   },
   "outputs": [
    {
     "name": "stdout",
     "output_type": "stream",
     "text": [
      "          Date  Sentiment Sums\n",
      "6   2018-12-23           168.0\n",
      "7   2018-12-24           207.0\n",
      "26  2018-12-25           141.0\n",
      "27  2018-12-26           176.0\n",
      "28  2018-12-27           184.0\n",
      "29  2018-12-28           190.0\n",
      "4   2018-12-29           276.0\n",
      "5   2018-12-30           153.0\n",
      "20  2018-12-31           125.0\n",
      "0   2019-01-01           120.0\n",
      "1   2019-01-02           111.0\n",
      "2   2019-01-03           116.0\n",
      "3   2019-01-04            30.0\n",
      "8   2019-01-05           105.0\n",
      "9   2019-01-06           155.0\n",
      "10  2019-01-07           199.0\n",
      "11  2019-01-08           154.0\n",
      "18  2019-01-09           179.0\n",
      "19  2019-01-10           184.0\n",
      "12  2019-01-12            44.0\n",
      "13  2019-01-13            70.0\n",
      "14  2019-01-14           125.0\n",
      "15  2019-01-15           209.0\n",
      "16  2019-01-16           108.0\n",
      "17  2019-01-17           134.0\n",
      "30  2019-01-18            58.0\n",
      "31  2019-01-19            89.0\n",
      "32  2019-01-20            86.0\n",
      "33  2019-01-21            92.0\n",
      "34  2019-01-22            99.0\n",
      "35  2019-01-23             8.0\n",
      "36  2019-01-24             NaN\n",
      "37  2019-01-25             NaN\n",
      "38  2019-01-26             NaN\n",
      "39  2019-01-27             NaN\n",
      "40  2019-01-28             NaN\n",
      "41  2019-01-29             NaN\n",
      "21  2019-01-30            17.0\n",
      "22  2019-01-31           119.0\n",
      "23  2019-02-01           122.0\n",
      "24  2019-02-02           154.0\n",
      "25  2019-02-03           128.0\n"
     ]
    }
   ],
   "source": [
    "sentSums = defaultdict(int)\n",
    "for index, row in dfSent.iterrows():\n",
    "    sentSums[row['date']] += row['sentiment']\n",
    "\n",
    "dates=[]\n",
    "sums=[]\n",
    "for date, sumval in sentSums.items():\n",
    "    dates.append(date)\n",
    "    sums.append(sumval)\n",
    "\n",
    "dfDateSent = pd.DataFrame(\n",
    "    {'Date': dates,\n",
    "     'Sentiment Sums': sums\n",
    "    })\n",
    "missingDates = ['2019-01-24', '2019-01-25', '2019-01-26', '2019-01-27', '2019-01-28', '2019-01-29']\n",
    "missingDatesList = [[date, np.nan] for date in missingDates]\n",
    "tempdf = pd.DataFrame(missingDatesList, columns=['Date', 'Sentiment Sums'])\n",
    "dfDateSent = dfDateSent.append(tempdf, ignore_index=True)\n",
    "dfDateSent = dfDateSent.sort_values(by=['Date'])\n",
    "\n",
    "print(dfDateSent)"
   ]
  },
  {
   "cell_type": "code",
   "execution_count": 19,
   "metadata": {},
   "outputs": [
    {
     "name": "stdout",
     "output_type": "stream",
     "text": [
      "         Date  TSLA Price\n",
      "0  2018-12-24  295.390015\n",
      "1  2018-12-26  326.089996\n",
      "2  2018-12-27  316.130005\n",
      "3  2018-12-28  333.869995\n",
      "4  2018-12-31  332.799988\n",
      "         Date   SPY Price\n",
      "0  2018-12-24  234.339996\n",
      "1  2018-12-26  246.179993\n",
      "2  2018-12-27  248.070007\n",
      "3  2018-12-28  247.750000\n",
      "4  2018-12-31  249.919998\n"
     ]
    }
   ],
   "source": [
    "#Read in stock prices\n",
    "dfStock = pd.read_csv('../Data/tsla_stock.csv')\n",
    "dfStock = dfStock.drop(['Open', 'High', 'Low', 'Adj Close', 'Volume'], axis = 1)\n",
    "dfStock = dfStock.rename(index=str, columns={\"Close\": \"TSLA Price\"})\n",
    "print(dfStock.head())\n",
    "\n",
    "dfSpy = pd.read_csv('../Data/spy.csv')\n",
    "dfSpy = dfSpy.drop(['Open', 'High', 'Low', 'Adj Close', 'Volume'], axis = 1)\n",
    "dfSpy = dfSpy.rename(index=str, columns={\"Close\": \"SPY Price\"})\n",
    "print(dfSpy.head())"
   ]
  },
  {
   "cell_type": "code",
   "execution_count": 20,
   "metadata": {},
   "outputs": [
    {
     "name": "stdout",
     "output_type": "stream",
     "text": [
      "         Date  Sentiment Sums  TSLA Price\n",
      "0  2018-12-23           168.0         NaN\n",
      "1  2018-12-24           207.0  295.390015\n",
      "2  2018-12-25           141.0         NaN\n",
      "3  2018-12-26           176.0  326.089996\n",
      "4  2018-12-27           184.0  316.130005\n"
     ]
    }
   ],
   "source": [
    "#Merge sentiment dataframe with stock price dataframe\n",
    "dfMerged = dfDateSent.merge(dfStock, how='left', on='Date')\n",
    "#dfMerged = dfMerged.set_index('Date')\n",
    "print(dfMerged.head())"
   ]
  },
  {
   "cell_type": "code",
   "execution_count": 21,
   "metadata": {
    "scrolled": false
   },
   "outputs": [
    {
     "data": {
      "image/png": "[encoded data removed]",
      "text/plain": [
       "<Figure size 720x576 with 2 Axes>"
      ]
     },
     "metadata": {
      "needs_background": "light"
     },
     "output_type": "display_data"
    }
   ],
   "source": [
    "%matplotlib inline\n",
    "x = dfMerged['Date']\n",
    "\n",
    "x = [datetime.strptime(str(i), '%Y-%m-%d') for i in x]\n",
    "y1 = dfMerged['Sentiment Sums']\n",
    "y2 = dfMerged['TSLA Price']\n",
    "\n",
    "\n",
    "fig, ax1 = plt.subplots(figsize=(10, 8))\n",
    "\n",
    "color = 'tab:blue'\n",
    "ax1.set_xlabel('Date')\n",
    "ax1.set_ylabel('Daily Sentiment Sums', color=color)\n",
    "ax1.plot(x, y1, color=color)\n",
    "ax1.tick_params(axis='y', labelcolor=color)\n",
    "\n",
    "ax2 = ax1.twinx()  # instantiate a second axes that shares the same x-axis\n",
    "color = 'tab:red'\n",
    "ax2.set_ylabel('TSLA Price', color=color)  # we already handled the x-label with ax1\n",
    "ax2.plot(x, y2, color=color)\n",
    "ax2.tick_params(axis='y', labelcolor=color)\n",
    "\n",
    "for tick in ax1.get_xticklabels():\n",
    "    tick.set_rotation(45)\n",
    "plt.title(\"TSLA Stock and Tweet Sentiment\")\n",
    "fig.savefig(\"aaafig.pdf\")"
   ]
  },
  {
   "cell_type": "code",
   "execution_count": 22,
   "metadata": {},
   "outputs": [
    {
     "name": "stdout",
     "output_type": "stream",
     "text": [
      "         Date  Sentiment Sums  TSLA Price   SPY Price\n",
      "0  2018-12-23           168.0         NaN         NaN\n",
      "1  2018-12-24           207.0  295.390015  234.339996\n",
      "2  2018-12-25           141.0         NaN         NaN\n",
      "3  2018-12-26           176.0  326.089996  246.179993\n",
      "4  2018-12-27           184.0  316.130005  248.070007\n"
     ]
    }
   ],
   "source": [
    "#Merge sentiment dataframe with stock price dataframe\n",
    "dfMerged = dfDateSent.merge(dfStock, how='left', on='Date')\n",
    "dfMerged = dfMerged.merge(dfSpy, how='left', on='Date')\n",
    "#dfMerged = dfMerged.set_index('Date')\n",
    "print(dfMerged.head())"
   ]
  },
  {
   "cell_type": "code",
   "execution_count": 23,
   "metadata": {},
   "outputs": [
    {
     "data": {
      "text/plain": [
       "Text(0.5,1,'TSLA Stock and SPY and Tweet Sentiment')"
      ]
     },
     "execution_count": 23,
     "metadata": {},
     "output_type": "execute_result"
    },
    {
     "data": {
      "image/png": "[encoded data removed]",
      "text/plain": [
       "<Figure size 720x576 with 3 Axes>"
      ]
     },
     "metadata": {
      "needs_background": "light"
     },
     "output_type": "display_data"
    }
   ],
   "source": [
    "%matplotlib inline\n",
    "x = dfMerged['Date']\n",
    "\n",
    "x = [datetime.strptime(str(i), '%Y-%m-%d') for i in x]\n",
    "y1 = dfMerged['TSLA Price']\n",
    "y2 = dfMerged['Sentiment Sums']\n",
    "y3 = dfMerged['SPY Price']\n",
    "\n",
    "fig, ax1 = plt.subplots(figsize=(10, 8))\n",
    "\n",
    "color = 'tab:red'\n",
    "ax1.set_xlabel('Date')\n",
    "ax1.set_ylabel('TSLA Stock Price', color=color)\n",
    "ax1.plot(x, y1, color=color)\n",
    "ax1.tick_params(axis='y', labelcolor=color)\n",
    "\n",
    "ax2 = ax1.twinx()  # instantiate a second axes that shares the same x-axis\n",
    "color = 'tab:blue'\n",
    "ax2.set_ylabel('Daily Sentiment Sums', color=color)  # we already handled the x-label with ax1\n",
    "ax2.plot(x, y2, color=color)\n",
    "ax2.tick_params(axis='y', labelcolor=color)\n",
    "\n",
    "ax3 = ax1.twinx()  # instantiate a second axes that shares the same x-axis\n",
    "color = 'tab:green'\n",
    "ax3.set_ylabel('SPY Price', color=color)  # we already handled the x-label with ax1\n",
    "ax3.plot(x, y3, color=color)\n",
    "ax3.tick_params(axis='y', labelcolor=color)\n",
    "\n",
    "for tick in ax1.get_xticklabels():\n",
    "    tick.set_rotation(45)\n",
    "plt.title(\"TSLA Stock and SPY and Tweet Sentiment\")"
   ]
  },
  {
   "cell_type": "code",
   "execution_count": null,
   "metadata": {},
   "outputs": [],
   "source": []
  }
 ],
 "metadata": {
  "kernelspec": {
   "display_name": "Python 3",
   "language": "python",
   "name": "python3"
  },
  "language_info": {
   "codemirror_mode": {
    "name": "ipython",
    "version": 3
   },
   "file_extension": ".py",
   "mimetype": "text/x-python",
   "name": "python",
   "nbconvert_exporter": "python",
   "pygments_lexer": "ipython3",
   "version": "3.7.0"
  }
 },
 "nbformat": 4,
 "nbformat_minor": 2
}
