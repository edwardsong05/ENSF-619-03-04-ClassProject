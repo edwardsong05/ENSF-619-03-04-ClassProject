{
 "cells": [
  {
   "cell_type": "code",
   "execution_count": 13,
   "metadata": {},
   "outputs": [],
   "source": [
    "import gensim\n",
    "import json"
   ]
  },
  {
   "cell_type": "markdown",
   "metadata": {},
   "source": [
    "# try LDA using seperate documents on the relevent dataset"
   ]
  },
  {
   "cell_type": "code",
   "execution_count": 9,
   "metadata": {},
   "outputs": [
    {
     "name": "stdout",
     "output_type": "stream",
     "text": [
      "unicode error\n",
      "unicode error\n",
      "unicode error\n"
     ]
    }
   ],
   "source": [
    "in_handle = open('classify_sen_labeled.json', encoding='utf-8')\n",
    "out_handle = open('text.txt', 'w')\n",
    "\n",
    "for line in in_handle:\n",
    "    item = json.loads(line)\n",
    "    try:\n",
    "        out_handle.write(item['text'] + \"\\n\")\n",
    "    except:\n",
    "        print('unicode error')\n",
    "\n",
    "in_handle.close()\n",
    "out_handle.close()"
   ]
  },
  {
   "cell_type": "code",
   "execution_count": 82,
   "metadata": {},
   "outputs": [],
   "source": [
    "in_handle = open('text.txt')\n",
    "\n",
    "doc_clean = []\n",
    "\n",
    "for line in in_handle:\n",
    "    doc_clean.append(line.split())\n",
    "    \n",
    "in_handle.close()\n",
    "\n",
    "topics=3\n",
    "dictionary = gensim.corpora.Dictionary(doc_clean)\n",
    "doc_term_matrix = [dictionary.doc2bow(doc) for doc in doc_clean]\n",
    "Lda = gensim.models.ldamodel.LdaModel\n",
    "ldamodel = Lda(doc_term_matrix, num_topics=topics, id2word = dictionary, passes = 40, alpha='auto', update_every=5)"
   ]
  },
  {
   "cell_type": "code",
   "execution_count": 83,
   "metadata": {},
   "outputs": [
    {
     "name": "stdout",
     "output_type": "stream",
     "text": [
      "0:['drive', 'would', 'got', 'today']\n",
      "1:['drive', 'not_a', 'not_tesla', 'test']\n",
      "2:['like', 'buy', 'would', 'want']\n"
     ]
    }
   ],
   "source": [
    "x=ldamodel.show_topics(num_topics=topics, num_words=4, formatted=False)\n",
    "topics_words = [(tp[0], [wd[0] for wd in tp[1]]) for tp in x]\n",
    "\n",
    "#Below Code Prints Topics and Words\n",
    "for topic,words in topics_words:\n",
    "    print(str(topic)+ \":\"+ str(words))"
   ]
  },
  {
   "cell_type": "markdown",
   "metadata": {},
   "source": [
    "from LDA analysis we can see possible topics:\n",
    "0. driving the car\n",
    "1. test driving not a tesla\n",
    "2. want to buy"
   ]
  }
 ],
 "metadata": {
  "kernelspec": {
   "display_name": "Python 3",
   "language": "python",
   "name": "python3"
  },
  "language_info": {
   "codemirror_mode": {
    "name": "ipython",
    "version": 3
   },
   "file_extension": ".py",
   "mimetype": "text/x-python",
   "name": "python",
   "nbconvert_exporter": "python",
   "pygments_lexer": "ipython3",
   "version": "3.7.2"
  }
 },
 "nbformat": 4,
 "nbformat_minor": 2
}
