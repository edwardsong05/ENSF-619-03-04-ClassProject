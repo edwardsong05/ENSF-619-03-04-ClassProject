{
 "cells": [
  {
   "cell_type": "code",
   "execution_count": 1,
   "metadata": {},
   "outputs": [],
   "source": [
    "import json"
   ]
  },
  {
   "cell_type": "code",
   "execution_count": 4,
   "metadata": {},
   "outputs": [
    {
     "name": "stdout",
     "output_type": "stream",
     "text": [
      "unicode error\n",
      "unicode error\n",
      "unicode error\n",
      "3207\n"
     ]
    }
   ],
   "source": [
    "in_handle = open('classify_sen_labeled.json')\n",
    "out_handle = open('tweet_text.csv', 'w')\n",
    "\n",
    "out_handle.write('text\\n')\n",
    "\n",
    "count = 0\n",
    "for line in in_handle:\n",
    "    item = json.loads(line)\n",
    "    try:\n",
    "        out_handle.write(item['text'] + \"\\n\")\n",
    "        count += 1\n",
    "    except:\n",
    "        print('unicode error')\n",
    "    \n",
    "out_handle.close()\n",
    "print(count)"
   ]
  },
  {
   "cell_type": "code",
   "execution_count": null,
   "metadata": {},
   "outputs": [],
   "source": []
  }
 ],
 "metadata": {
  "kernelspec": {
   "display_name": "Python 3",
   "language": "python",
   "name": "python3"
  },
  "language_info": {
   "codemirror_mode": {
    "name": "ipython",
    "version": 3
   },
   "file_extension": ".py",
   "mimetype": "text/x-python",
   "name": "python",
   "nbconvert_exporter": "python",
   "pygments_lexer": "ipython3",
   "version": "3.7.2"
  }
 },
 "nbformat": 4,
 "nbformat_minor": 2
}
