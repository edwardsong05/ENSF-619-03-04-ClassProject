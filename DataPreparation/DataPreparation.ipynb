{
 "cells": [
  {
   "cell_type": "code",
   "execution_count": null,
   "metadata": {},
   "outputs": [],
   "source": [
    "import json\n",
    "from nltk.tokenize import RegexpTokenizer\n",
    "from nltk.stem import PorterStemmer\n",
    "from nltk.corpus import stopwords\n",
    "import re\n",
    "import string"
   ]
  },
  {
   "cell_type": "markdown",
   "metadata": {},
   "source": [
    "# process the tweets\n",
    "open the tweets, process them, then save them back into the json format"
   ]
  },
  {
   "cell_type": "code",
   "execution_count": null,
   "metadata": {},
   "outputs": [],
   "source": [
    "# open files to read and write from\n",
    "in_filename = 'SampleData.json'\n",
    "out_filename = 'prepared_json.json'\n",
    "\n",
    "in_handle = open(in_filename, encoding='utf8')\n",
    "out_handle = open(out_filename, 'w', encoding='utf8')"
   ]
  },
  {
   "cell_type": "code",
   "execution_count": 54,
   "metadata": {},
   "outputs": [],
   "source": [
    "# process the tweet and adds in negation terms\n",
    "# adds a not to every word after a token of logical negation\n",
    "# until the next puncutation mark\n",
    "\n",
    "negation_tokens = ['not', \"n't\", 'no', 'never'] # note: order is important not should be first\n",
    "puncuation = {',', '.', '?', '!'}\n",
    "\n",
    "# adapted from https://stackoverflow.com/questions/23384351/how-to-add-tags-to-negated-words-in-strings-that-follow-not-no-and-never\n",
    "def check_and_negate(tweet: str):\n",
    "    tweet = re.sub('n\\'t', ' not', tweet) # replace n't with not\n",
    "    # add NOT_ to the beginning of each word until a end of sentence mark (.,!?) occurs\n",
    "    tweet = re.sub(r'\\b(?:not|never|no)\\b[\\'\\w\\s]+[.,?!]', \n",
    "                   lambda match: re.sub(r'(\\s+)(\\w+)', r'\\1NOT_\\2', match.group(0)), \n",
    "                   tweet,\n",
    "                   flags=re.IGNORECASE)\n",
    "    return tweet"
   ]
  },
  {
   "cell_type": "code",
   "execution_count": null,
   "metadata": {},
   "outputs": [],
   "source": [
    "# processes the tweet\n",
    "# https://towardsdatascience.com/the-real-world-as-seen-on-twitter-sentiment-analysis-part-one-5ac2d06b63fb\n",
    "def process_tweet(tweet: str):\n",
    "    tweet = tweet.lower() # convert to lowercase\n",
    "    tweet = re.sub(r'#\\w*', '', tweet) # remove hashtags\n",
    "    tweet = re.sub('@\\S+', '', tweet) # remove @username\n",
    "    tweet = re.sub('\\s+', ' ', tweet) # remove multiple whitespace\n",
    "    tweet.strip() # remove excess leading and trailing whitespace\n",
    "    tweet = check_and_negate(tweet)# add negations\n",
    "    tweet.strip() # remove excess leading and trailing whitespace\n",
    "    return tweet"
   ]
  },
  {
   "cell_type": "code",
   "execution_count": null,
   "metadata": {},
   "outputs": [],
   "source": [
    "j_items = []\n",
    "\n",
    "for line in in_handle:\n",
    "    # convert json object into python dict, append to list\n",
    "    item = json.loads(line)\n",
    "    j_items.append(item)\n",
    "    # perform cleaning and preparation\n",
    "    if 'text' in item: # check that the dictionary contains the key\n",
    "        item['text'] = process_tweet(item['text']) # convert to lowercase\n",
    "    # write the json object into an output file\n",
    "    out_handle.write(json.dumps(item))\n",
    "    out_handle.write('\\n')"
   ]
  },
  {
   "cell_type": "code",
   "execution_count": null,
   "metadata": {},
   "outputs": [],
   "source": [
    "in_handle.close()\n",
    "print('input file closed')\n",
    "out_handle.close()\n",
    "print('output file closed')"
   ]
  },
  {
   "cell_type": "code",
   "execution_count": null,
   "metadata": {
    "scrolled": true
   },
   "outputs": [],
   "source": [
    "# Print out first tweet with formatting\n",
    "print(json.dumps(j_items[0], indent=4))"
   ]
  },
  {
   "cell_type": "code",
   "execution_count": null,
   "metadata": {},
   "outputs": [],
   "source": [
    "print(json.dumps(j_items[2], indent=4))"
   ]
  },
  {
   "cell_type": "code",
   "execution_count": null,
   "metadata": {},
   "outputs": [],
   "source": [
    "print(j_items[2]['text'])\n",
    "print(process_tweet(j_items[2]['text']))"
   ]
  },
  {
   "cell_type": "code",
   "execution_count": 56,
   "metadata": {},
   "outputs": [
    {
     "name": "stdout",
     "output_type": "stream",
     "text": [
      "i do not NOT_like NOT_onions NOT_he's NOT_body. They taste bad\n"
     ]
    }
   ],
   "source": [
    "# test the negation\n",
    "test = \"i don't like onions he's body. They taste bad\"\n",
    "print(check_and_negate(test))"
   ]
  },
  {
   "cell_type": "code",
   "execution_count": null,
   "metadata": {},
   "outputs": [],
   "source": []
  }
 ],
 "metadata": {
  "kernelspec": {
   "display_name": "Python 3",
   "language": "python",
   "name": "python3"
  },
  "language_info": {
   "codemirror_mode": {
    "name": "ipython",
    "version": 3
   },
   "file_extension": ".py",
   "mimetype": "text/x-python",
   "name": "python",
   "nbconvert_exporter": "python",
   "pygments_lexer": "ipython3",
   "version": "3.7.0"
  }
 },
 "nbformat": 4,
 "nbformat_minor": 2
}
