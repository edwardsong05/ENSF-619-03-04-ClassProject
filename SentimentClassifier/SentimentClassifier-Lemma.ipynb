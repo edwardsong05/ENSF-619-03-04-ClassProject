{
 "cells": [
  {
   "cell_type": "code",
   "execution_count": 27,
   "metadata": {},
   "outputs": [],
   "source": [
    "import json\n",
    "import pandas as pd\n",
    "import numpy as np\n",
    "from sklearn.model_selection import train_test_split\n",
    "from nltk.stem.snowball import SnowballStemmer\n",
    "from sklearn.pipeline import Pipeline\n",
    "from sklearn.feature_extraction.text import CountVectorizer\n",
    "from sklearn.feature_extraction.text import TfidfTransformer\n",
    "from sklearn.naive_bayes import MultinomialNB\n",
    "from sklearn.model_selection import cross_val_score\n",
    "from sklearn.metrics import accuracy_score\n",
    "from sklearn.metrics import recall_score\n",
    "from sklearn.metrics import precision_score\n",
    "from sklearn.metrics import f1_score\n",
    "from sklearn.metrics import confusion_matrix\n",
    "from sklearn import preprocessing\n",
    "from sklearn.metrics import roc_curve, auc, roc_auc_score"
   ]
  },
  {
   "cell_type": "code",
   "execution_count": 15,
   "metadata": {},
   "outputs": [
    {
     "name": "stdout",
     "output_type": "stream",
     "text": [
      "                                                text  sentiment\n",
      "0  destination charger charge normal car 7kw supe...          1\n",
      "1          super charger working hard holiday season          2\n",
      "2                                         gave would          2\n",
      "3  agree would need major catalyst flip script ac...          2\n",
      "4                downsizing key emoji_clapping_hands          2\n"
     ]
    }
   ],
   "source": [
    "# create a dataframe to store the information\n",
    "df = pd.DataFrame(columns=['text', 'sentiment'])\n",
    "\n",
    "handle = open('../Data/classify_sen_labeled_lemma.json')\n",
    "\n",
    "for line in handle:\n",
    "    item = json.loads(line)\n",
    "    if item['isRelevant'] == 1:\n",
    "        temp = pd.DataFrame([[item['text'], item['sentiment']]], columns=['text', 'sentiment'])\n",
    "    df = df.append(temp, ignore_index=True)\n",
    "handle.close()\n",
    "df['sentiment'] = df['sentiment'].astype(int)\n",
    "print(df.head())"
   ]
  },
  {
   "cell_type": "code",
   "execution_count": 16,
   "metadata": {},
   "outputs": [],
   "source": [
    "def warn(*args, **kwargs):\n",
    "    pass\n",
    "import warnings\n",
    "warnings.warn = warn\n",
    "\n",
    "def calcScores(y, pred):\n",
    "    averageType = 'micro'\n",
    "    accuracy = accuracy_score(y, pred)\n",
    "    print(\"Accuracy: %0.4f\" % (accuracy))\n",
    "    recall = recall_score(y, pred, average=averageType)\n",
    "    print(\"Recall: %0.4f\" % recall)\n",
    "    precision = precision_score(y, pred, average=averageType)\n",
    "    print(\"Precision: %0.4f\" % precision)\n",
    "    f1 = f1_score(y, pred, average=averageType)\n",
    "    print(\"F-Score: %0.4f\" % f1)\n",
    "    return accuracy, recall, precision, f1\n",
    "\n",
    "##split data\n",
    "x_train, x_test, y_train, y_test = train_test_split(df['text'], df['sentiment'], test_size=0.25, random_state=1)"
   ]
  },
  {
   "cell_type": "code",
   "execution_count": 17,
   "metadata": {},
   "outputs": [
    {
     "name": "stdout",
     "output_type": "stream",
     "text": [
      "-----Naive Bayes-----\n",
      "Train\n",
      "Accuracy: 0.9643\n",
      "Recall: 0.9643\n",
      "Precision: 0.9643\n",
      "F-Score: 0.9643\n",
      "\n",
      "Test\n",
      "Accuracy: 0.8792\n",
      "Recall: 0.8792\n",
      "Precision: 0.8792\n",
      "F-Score: 0.8792\n",
      "\n",
      "-----SVM-----\n",
      "Train\n",
      "Accuracy: 0.9580\n",
      "Recall: 0.9580\n",
      "Precision: 0.9580\n",
      "F-Score: 0.9580\n",
      "\n",
      "Test\n",
      "Accuracy: 0.8568\n",
      "Recall: 0.8568\n",
      "Precision: 0.8568\n",
      "F-Score: 0.8568\n"
     ]
    }
   ],
   "source": [
    "##Naive Bayes\n",
    "\n",
    "text_clf_pipe_nb = Pipeline([('vect', CountVectorizer()),\n",
    "                     ('tfidf', TfidfTransformer()),\n",
    "                     ('mnb', MultinomialNB(fit_prior=False)),])\n",
    "\n",
    "text_clf_nb = text_clf_pipe_nb.fit(x_train, y_train)\n",
    "train_pred_nb = text_clf_nb.predict(x_train)\n",
    "test_pred_nb = text_clf_nb.predict(x_test)\n",
    "\n",
    "print(\"-----Naive Bayes-----\")\n",
    "print(\"Train\")\n",
    "values_train_nb = calcScores(y_train, train_pred_nb)\n",
    "print(\"\\nTest\")\n",
    "values_test_nb = calcScores(y_test, test_pred_nb)\n",
    "\n",
    "##SVM\n",
    "from sklearn.linear_model import SGDClassifier\n",
    "text_clf_pipe_svm = Pipeline([('vect', CountVectorizer()),\n",
    "                              ('tfidf', TfidfTransformer()),\n",
    "                              ('clf-svm', SGDClassifier(loss='hinge', \n",
    "                                                        penalty='l2', alpha=1e-3, \n",
    "                                                        max_iter=5, tol=None, \n",
    "                                                        random_state=42))])\n",
    "text_clf_svm = text_clf_pipe_svm.fit(x_train, y_train)\n",
    "train_pred_svm = text_clf_svm.predict(x_train)\n",
    "test_pred_svm = text_clf_svm.predict(x_test)\n",
    "\n",
    "print(\"\\n-----SVM-----\")\n",
    "print(\"Train\")\n",
    "values_train_svm = calcScores(y_train, train_pred_svm)\n",
    "print(\"\\nTest\")\n",
    "values_test_svm = calcScores(y_test, test_pred_svm)\n",
    "scores = np.column_stack((values_train_nb, values_train_svm, values_test_nb, values_test_svm))"
   ]
  },
  {
   "cell_type": "code",
   "execution_count": 19,
   "metadata": {},
   "outputs": [
    {
     "data": {
      "image/png": "[encoded data removed]",
      "text/plain": [
       "<Figure size 720x288 with 4 Axes>"
      ]
     },
     "metadata": {
      "needs_background": "light"
     },
     "output_type": "display_data"
    }
   ],
   "source": [
    "%matplotlib inline\n",
    "##plot confusion matrices\n",
    "import seaborn as sn\n",
    "import pandas as pd\n",
    "import matplotlib.pyplot as plt\n",
    "\n",
    "def normalizeCM(cm):\n",
    "    cm = cm.astype('float') / cm.sum(axis=1)[:, np.newaxis]\n",
    "    return cm\n",
    "\n",
    "def createCmDf(cm):\n",
    "    df_cm = pd.DataFrame(cm, index = [\"Positive\", \"Neutral\", \"Negative\"], columns = [\"Positive\", \"Neutral\", \"Negative\"])\n",
    "    return df_cm\n",
    "\n",
    "cm_nb = confusion_matrix(y_test,test_pred_nb, labels = [2, 1, 0])\n",
    "\n",
    "cm_svm = confusion_matrix(y_test,test_pred_svm, labels = [2, 1, 0])\n",
    "\n",
    "df_nb = createCmDf(cm_nb)\n",
    "df_svm = createCmDf(cm_svm)\n",
    "\n",
    "fig, (ax1,ax2) = plt.subplots(ncols=2, figsize=(10, 4))\n",
    "fmt = '10d'\n",
    "im = sn.heatmap(df_nb, ax=ax1, annot=True, cmap='coolwarm', fmt=fmt)\n",
    "ax1.set_title(\"Naive Bayes\")\n",
    "ax1.set_xlabel(\"True\")\n",
    "ax1.set_ylabel(\"Predicted\")\n",
    "sn.heatmap(df_svm, ax=ax2, annot=True, cmap='coolwarm', fmt=fmt)\n",
    "ax2.set_title(\"SVM\")\n",
    "ax2.set_xlabel(\"True\")\n",
    "ax2.set_ylabel(\"Predicted\")\n",
    "mappable = im.get_children()[0]\n",
    "plt.show();"
   ]
  },
  {
   "cell_type": "code",
   "execution_count": null,
   "metadata": {},
   "outputs": [],
   "source": []
  }
 ],
 "metadata": {
  "kernelspec": {
   "display_name": "Python 3",
   "language": "python",
   "name": "python3"
  },
  "language_info": {
   "codemirror_mode": {
    "name": "ipython",
    "version": 3
   },
   "file_extension": ".py",
   "mimetype": "text/x-python",
   "name": "python",
   "nbconvert_exporter": "python",
   "pygments_lexer": "ipython3",
   "version": "3.7.2"
  }
 },
 "nbformat": 4,
 "nbformat_minor": 2
}
